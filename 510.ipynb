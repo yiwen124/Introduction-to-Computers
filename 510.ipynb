{
  "nbformat": 4,
  "nbformat_minor": 0,
  "metadata": {
    "colab": {
      "provenance": [],
      "authorship_tag": "ABX9TyOOljxw6v8ucEhojPlaMxWM",
      "include_colab_link": true
    },
    "kernelspec": {
      "name": "python3",
      "display_name": "Python 3"
    },
    "language_info": {
      "name": "python"
    }
  },
  "cells": [
    {
      "cell_type": "markdown",
      "metadata": {
        "id": "view-in-github",
        "colab_type": "text"
      },
      "source": [
        "<a href=\"https://colab.research.google.com/github/yiwen124/Introduction-to-Computers/blob/main/510.ipynb\" target=\"_parent\"><img src=\"https://colab.research.google.com/assets/colab-badge.svg\" alt=\"Open In Colab\"/></a>"
      ]
    },
    {
      "cell_type": "code",
      "execution_count": 1,
      "metadata": {
        "colab": {
          "base_uri": "https://localhost:8080/"
        },
        "id": "58MrgPEXwq7w",
        "outputId": "4d258bbd-9f9d-447d-9470-74b25c021647"
      },
      "outputs": [
        {
          "output_type": "stream",
          "name": "stdout",
          "text": [
            "請輸入密碼1234\n",
            "密碼正確\n"
          ]
        }
      ],
      "source": [
        "password =int(input (\"請輸入密碼\"))\n",
        "if password==1234:\n",
        "   print(\"密碼正確\")"
      ]
    },
    {
      "cell_type": "code",
      "source": [
        "password =int(input (\"請輸入密碼\"))\n",
        "if password==1234:\n",
        "   print(\"密碼正確\")\n",
        "else: \n",
        "   print (\"密碼不正確\")"
      ],
      "metadata": {
        "colab": {
          "base_uri": "https://localhost:8080/"
        },
        "id": "YAy3GtLS0Ub1",
        "outputId": "3a7deae5-bfb0-41f2-c512-958a757740e4"
      },
      "execution_count": 2,
      "outputs": [
        {
          "output_type": "stream",
          "name": "stdout",
          "text": [
            "請輸入密碼1111\n",
            "密碼不正確\n"
          ]
        }
      ]
    },
    {
      "cell_type": "code",
      "source": [
        "rain=str(input (\"今天會下雨嗎？\"))\n",
        "if (rain== 'Y'or rain=='y'):\n",
        "   print ('出門記得帶傘')\n",
        "if (rain=='N' or rain=='n'):\n",
        "   print ('出門不用帶傘')"
      ],
      "metadata": {
        "colab": {
          "base_uri": "https://localhost:8080/"
        },
        "id": "2rZavh941VHg",
        "outputId": "d3b1dda8-fefc-4b69-e48e-1e9b97aa6065"
      },
      "execution_count": 22,
      "outputs": [
        {
          "output_type": "stream",
          "name": "stdout",
          "text": [
            "今天會下雨嗎？Y\n",
            "出門記得帶傘\n"
          ]
        }
      ]
    },
    {
      "cell_type": "code",
      "source": [
        "num = int(input('請輸入一個整數？'))\n",
        "\n",
        "if num%2:\n",
        "      print(num, '為奇數')\n",
        "\n",
        "else:\n",
        "      print(num, '為偶數')"
      ],
      "metadata": {
        "id": "YXBSNDJA7qKW",
        "outputId": "78ba8fdb-8f2a-4716-83ea-2036c007ed30",
        "colab": {
          "base_uri": "https://localhost:8080/"
        }
      },
      "execution_count": 23,
      "outputs": [
        {
          "output_type": "stream",
          "name": "stdout",
          "text": [
            "請輸入一個整數？1\n",
            "1 為奇數\n"
          ]
        }
      ]
    }
  ]
}