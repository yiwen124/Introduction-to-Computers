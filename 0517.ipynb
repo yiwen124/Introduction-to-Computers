{
  "nbformat": 4,
  "nbformat_minor": 0,
  "metadata": {
    "colab": {
      "provenance": [],
      "authorship_tag": "ABX9TyO13zAmDIJQP+s4BLy+fqoe",
      "include_colab_link": true
    },
    "kernelspec": {
      "name": "python3",
      "display_name": "Python 3"
    },
    "language_info": {
      "name": "python"
    }
  },
  "cells": [
    {
      "cell_type": "markdown",
      "metadata": {
        "id": "view-in-github",
        "colab_type": "text"
      },
      "source": [
        "<a href=\"https://colab.research.google.com/github/yiwen124/Introduction-to-Computers/blob/main/0517.ipynb\" target=\"_parent\"><img src=\"https://colab.research.google.com/assets/colab-badge.svg\" alt=\"Open In Colab\"/></a>"
      ]
    },
    {
      "cell_type": "code",
      "execution_count": 1,
      "metadata": {
        "colab": {
          "base_uri": "https://localhost:8080/"
        },
        "id": "IWnZBu78yKbb",
        "outputId": "41fcad75-26c1-432f-e536-89b3bf5662cf"
      },
      "outputs": [
        {
          "output_type": "stream",
          "name": "stdout",
          "text": [
            "score: 65\n",
            "Grade is: D\n"
          ]
        }
      ],
      "source": [
        "score = int(input(\"score: \"))\n",
        "if score >= 90:\n",
        "   print('Grade is: A')\n",
        "elif score >= 80:\n",
        "   print('Grade is: B')\n",
        "elif score >= 70:\n",
        "   print('Grade is: C')\n",
        "elif score >= 60:\n",
        "   print('Grade is: D')\n",
        "else:\n",
        "   print('Grade is: F')"
      ]
    },
    {
      "cell_type": "code",
      "source": [
        "rain=str(input (\"今天會下雨嗎？\"))\n",
        "if (rain== 'Y'or rain=='y'):\n",
        "   print ('出門記得帶傘')\n",
        "elif (rain=='N' or rain=='n'):\n",
        "   print ('出門不用帶傘')\n",
        "else:\n",
        "   print ('重新輸入')"
      ],
      "metadata": {
        "colab": {
          "base_uri": "https://localhost:8080/"
        },
        "id": "1LSdbIU0zy0M",
        "outputId": "cd998d3a-ce20-4ed1-c41a-aa23204d5b6e"
      },
      "execution_count": 2,
      "outputs": [
        {
          "output_type": "stream",
          "name": "stdout",
          "text": [
            "今天會下雨嗎？Y\n",
            "出門記得帶傘\n"
          ]
        }
      ]
    },
    {
      "cell_type": "code",
      "source": [
        "score = int(input(\"請輸入成績: \"))\n",
        "if score >= 90:\n",
        "   print('A')\n",
        "elif score >= 80:\n",
        "   print('B')\n",
        "elif score >= 70:\n",
        "   print('C')\n",
        "elif score >= 60:\n",
        "   print('D')\n",
        "else:\n",
        "   print('F')"
      ],
      "metadata": {
        "colab": {
          "base_uri": "https://localhost:8080/"
        },
        "id": "cbD8CPo62YMJ",
        "outputId": "53d03163-b23e-40a8-fb7f-d53d5da8199f"
      },
      "execution_count": 6,
      "outputs": [
        {
          "output_type": "stream",
          "name": "stdout",
          "text": [
            "請輸入成績: 80\n",
            "B\n"
          ]
        }
      ]
    },
    {
      "cell_type": "code",
      "source": [
        "BT = int(input (\"請輸入體溫:\"))\n",
        "if BT >=37.5:\n",
        "     print ('體溫過高')\n",
        "elif BT >=34.7 and BT <=37:\n",
        "     print ('體溫略高')\n",
        "elif BT >=34 and BT <=36.9:\n",
        "     print ('體溫正常')\n",
        "else:\n",
        "     print ('體溫異常，請重新量測')"
      ],
      "metadata": {
        "colab": {
          "base_uri": "https://localhost:8080/"
        },
        "id": "f9DSxKe83Wo3",
        "outputId": "cea95ece-4356-4015-d49f-9c10063dd8ac"
      },
      "execution_count": 8,
      "outputs": [
        {
          "output_type": "stream",
          "name": "stdout",
          "text": [
            "請輸入體溫:32\n",
            "體溫異常，請重新量測\n"
          ]
        }
      ]
    },
    {
      "cell_type": "code",
      "source": [
        "month=int (input (\"請輸入月份\"))\n",
        "if month >=3 and month <=5:\n",
        "   print (\"%s月是春天\"%month)\n",
        "elif month >=6 and month <=8:\n",
        "   print (\"%s月是夏天\"%month)\n",
        "elif month >=9 and month <=11:\n",
        "   print (\"%s月是秋天\"%month)\n",
        "elif month ==12 and month==1 and month ==2:\n",
        "   print (\"%s月是冬天\"%month)\n",
        "else:\n",
        "   print (\"月份不在範圍內\")"
      ],
      "metadata": {
        "colab": {
          "base_uri": "https://localhost:8080/"
        },
        "id": "0BuNdOaY5drg",
        "outputId": "77416556-9622-4f24-cc99-de7887fb0544"
      },
      "execution_count": 17,
      "outputs": [
        {
          "output_type": "stream",
          "name": "stdout",
          "text": [
            "請輸入月份5\n",
            "5月是春天\n"
          ]
        }
      ]
    },
    {
      "cell_type": "code",
      "source": [
        "income=int(input (\"請輸入今年收入淨額:\"))\n",
        "if income >=2000000:\n",
        "   tax=0.3*income \n",
        "elif income >=1000000:\n",
        "   tax =0.21*income \n",
        "elif income >=600000:\n",
        "   tax=0.13*income \n",
        "elif income >=300000:\n",
        "   tax=0.06*income \n",
        "else:\n",
        "   tax=0\n",
        "print ('付稅金額:'+ str(tax) )"
      ],
      "metadata": {
        "colab": {
          "base_uri": "https://localhost:8080/"
        },
        "id": "Sif8Ssgh9ElW",
        "outputId": "0aaab21c-374e-4ec9-86a3-b8376b82f827"
      },
      "execution_count": 30,
      "outputs": [
        {
          "output_type": "stream",
          "name": "stdout",
          "text": [
            "請輸入今年收入淨額:100000\n",
            "付稅金額:0\n"
          ]
        }
      ]
    }
  ]
}